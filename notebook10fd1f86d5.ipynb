{
 "cells": [
  {
   "cell_type": "code",
   "execution_count": 1,
   "id": "e07cb22b",
   "metadata": {
    "_cell_guid": "b1076dfc-b9ad-4769-8c92-a6c4dae69d19",
    "_uuid": "8f2839f25d086af736a60e9eeb907d3b93b6e0e5",
    "execution": {
     "iopub.execute_input": "2025-02-10T03:01:11.736693Z",
     "iopub.status.busy": "2025-02-10T03:01:11.736333Z",
     "iopub.status.idle": "2025-02-10T03:01:12.687160Z",
     "shell.execute_reply": "2025-02-10T03:01:12.685843Z"
    },
    "papermill": {
     "duration": 0.957968,
     "end_time": "2025-02-10T03:01:12.688876",
     "exception": false,
     "start_time": "2025-02-10T03:01:11.730908",
     "status": "completed"
    },
    "tags": []
   },
   "outputs": [
    {
     "name": "stdout",
     "output_type": "stream",
     "text": [
      "/kaggle/input/student-depression-dataset/Student Depression Dataset.csv\n"
     ]
    }
   ],
   "source": [
    "# This Python 3 environment comes with many helpful analytics libraries installed\n",
    "# It is defined by the kaggle/python Docker image: https://github.com/kaggle/docker-python\n",
    "# For example, here's several helpful packages to load\n",
    "\n",
    "import numpy as np # linear algebra\n",
    "import pandas as pd # data processing, CSV file I/O (e.g. pd.read_csv)\n",
    "import matplotlib.pyplot as plt # plotting\n",
    "\n",
    "# Input data files are available in the read-only \"../input/\" directory\n",
    "# For example, running this (by clicking run or pressing Shift+Enter) will list all files under the input directory\n",
    "\n",
    "import os\n",
    "for dirname, _, filenames in os.walk('/kaggle/input'):\n",
    "    for filename in filenames:\n",
    "        print(os.path.join(dirname, filename))\n",
    "\n",
    "# You can write up to 20GB to the current directory (/kaggle/working/) that gets preserved as output when you create a version using \"Save & Run All\" \n",
    "# You can also write temporary files to /kaggle/temp/, but they won't be saved outside of the current session"
   ]
  },
  {
   "cell_type": "code",
   "execution_count": 2,
   "id": "7635d3b8",
   "metadata": {
    "execution": {
     "iopub.execute_input": "2025-02-10T03:01:12.697370Z",
     "iopub.status.busy": "2025-02-10T03:01:12.696837Z",
     "iopub.status.idle": "2025-02-10T03:01:12.868607Z",
     "shell.execute_reply": "2025-02-10T03:01:12.867583Z"
    },
    "papermill": {
     "duration": 0.177666,
     "end_time": "2025-02-10T03:01:12.870389",
     "exception": false,
     "start_time": "2025-02-10T03:01:12.692723",
     "status": "completed"
    },
    "tags": []
   },
   "outputs": [
    {
     "data": {
      "text/html": [
       "<div>\n",
       "<style scoped>\n",
       "    .dataframe tbody tr th:only-of-type {\n",
       "        vertical-align: middle;\n",
       "    }\n",
       "\n",
       "    .dataframe tbody tr th {\n",
       "        vertical-align: top;\n",
       "    }\n",
       "\n",
       "    .dataframe thead th {\n",
       "        text-align: right;\n",
       "    }\n",
       "</style>\n",
       "<table border=\"1\" class=\"dataframe\">\n",
       "  <thead>\n",
       "    <tr style=\"text-align: right;\">\n",
       "      <th></th>\n",
       "      <th>id</th>\n",
       "      <th>Gender</th>\n",
       "      <th>Age</th>\n",
       "      <th>City</th>\n",
       "      <th>Profession</th>\n",
       "      <th>Academic Pressure</th>\n",
       "      <th>Work Pressure</th>\n",
       "      <th>CGPA</th>\n",
       "      <th>Study Satisfaction</th>\n",
       "      <th>Job Satisfaction</th>\n",
       "      <th>Sleep Duration</th>\n",
       "      <th>Dietary Habits</th>\n",
       "      <th>Degree</th>\n",
       "      <th>Have you ever had suicidal thoughts ?</th>\n",
       "      <th>Work/Study Hours</th>\n",
       "      <th>Financial Stress</th>\n",
       "      <th>Family History of Mental Illness</th>\n",
       "      <th>Depression</th>\n",
       "    </tr>\n",
       "  </thead>\n",
       "  <tbody>\n",
       "    <tr>\n",
       "      <th>0</th>\n",
       "      <td>2</td>\n",
       "      <td>Male</td>\n",
       "      <td>33.0</td>\n",
       "      <td>Visakhapatnam</td>\n",
       "      <td>Student</td>\n",
       "      <td>5.0</td>\n",
       "      <td>0.0</td>\n",
       "      <td>8.97</td>\n",
       "      <td>2.0</td>\n",
       "      <td>0.0</td>\n",
       "      <td>5-6 hours</td>\n",
       "      <td>Healthy</td>\n",
       "      <td>B.Pharm</td>\n",
       "      <td>Yes</td>\n",
       "      <td>3.0</td>\n",
       "      <td>1.0</td>\n",
       "      <td>No</td>\n",
       "      <td>1</td>\n",
       "    </tr>\n",
       "    <tr>\n",
       "      <th>1</th>\n",
       "      <td>8</td>\n",
       "      <td>Female</td>\n",
       "      <td>24.0</td>\n",
       "      <td>Bangalore</td>\n",
       "      <td>Student</td>\n",
       "      <td>2.0</td>\n",
       "      <td>0.0</td>\n",
       "      <td>5.90</td>\n",
       "      <td>5.0</td>\n",
       "      <td>0.0</td>\n",
       "      <td>5-6 hours</td>\n",
       "      <td>Moderate</td>\n",
       "      <td>BSc</td>\n",
       "      <td>No</td>\n",
       "      <td>3.0</td>\n",
       "      <td>2.0</td>\n",
       "      <td>Yes</td>\n",
       "      <td>0</td>\n",
       "    </tr>\n",
       "    <tr>\n",
       "      <th>2</th>\n",
       "      <td>26</td>\n",
       "      <td>Male</td>\n",
       "      <td>31.0</td>\n",
       "      <td>Srinagar</td>\n",
       "      <td>Student</td>\n",
       "      <td>3.0</td>\n",
       "      <td>0.0</td>\n",
       "      <td>7.03</td>\n",
       "      <td>5.0</td>\n",
       "      <td>0.0</td>\n",
       "      <td>Less than 5 hours</td>\n",
       "      <td>Healthy</td>\n",
       "      <td>BA</td>\n",
       "      <td>No</td>\n",
       "      <td>9.0</td>\n",
       "      <td>1.0</td>\n",
       "      <td>Yes</td>\n",
       "      <td>0</td>\n",
       "    </tr>\n",
       "    <tr>\n",
       "      <th>3</th>\n",
       "      <td>30</td>\n",
       "      <td>Female</td>\n",
       "      <td>28.0</td>\n",
       "      <td>Varanasi</td>\n",
       "      <td>Student</td>\n",
       "      <td>3.0</td>\n",
       "      <td>0.0</td>\n",
       "      <td>5.59</td>\n",
       "      <td>2.0</td>\n",
       "      <td>0.0</td>\n",
       "      <td>7-8 hours</td>\n",
       "      <td>Moderate</td>\n",
       "      <td>BCA</td>\n",
       "      <td>Yes</td>\n",
       "      <td>4.0</td>\n",
       "      <td>5.0</td>\n",
       "      <td>Yes</td>\n",
       "      <td>1</td>\n",
       "    </tr>\n",
       "    <tr>\n",
       "      <th>4</th>\n",
       "      <td>32</td>\n",
       "      <td>Female</td>\n",
       "      <td>25.0</td>\n",
       "      <td>Jaipur</td>\n",
       "      <td>Student</td>\n",
       "      <td>4.0</td>\n",
       "      <td>0.0</td>\n",
       "      <td>8.13</td>\n",
       "      <td>3.0</td>\n",
       "      <td>0.0</td>\n",
       "      <td>5-6 hours</td>\n",
       "      <td>Moderate</td>\n",
       "      <td>M.Tech</td>\n",
       "      <td>Yes</td>\n",
       "      <td>1.0</td>\n",
       "      <td>1.0</td>\n",
       "      <td>No</td>\n",
       "      <td>0</td>\n",
       "    </tr>\n",
       "  </tbody>\n",
       "</table>\n",
       "</div>"
      ],
      "text/plain": [
       "   id  Gender   Age           City Profession  Academic Pressure  \\\n",
       "0   2    Male  33.0  Visakhapatnam    Student                5.0   \n",
       "1   8  Female  24.0      Bangalore    Student                2.0   \n",
       "2  26    Male  31.0       Srinagar    Student                3.0   \n",
       "3  30  Female  28.0       Varanasi    Student                3.0   \n",
       "4  32  Female  25.0         Jaipur    Student                4.0   \n",
       "\n",
       "   Work Pressure  CGPA  Study Satisfaction  Job Satisfaction  \\\n",
       "0            0.0  8.97                 2.0               0.0   \n",
       "1            0.0  5.90                 5.0               0.0   \n",
       "2            0.0  7.03                 5.0               0.0   \n",
       "3            0.0  5.59                 2.0               0.0   \n",
       "4            0.0  8.13                 3.0               0.0   \n",
       "\n",
       "      Sleep Duration Dietary Habits   Degree  \\\n",
       "0          5-6 hours        Healthy  B.Pharm   \n",
       "1          5-6 hours       Moderate      BSc   \n",
       "2  Less than 5 hours        Healthy       BA   \n",
       "3          7-8 hours       Moderate      BCA   \n",
       "4          5-6 hours       Moderate   M.Tech   \n",
       "\n",
       "  Have you ever had suicidal thoughts ?  Work/Study Hours  Financial Stress  \\\n",
       "0                                   Yes               3.0               1.0   \n",
       "1                                    No               3.0               2.0   \n",
       "2                                    No               9.0               1.0   \n",
       "3                                   Yes               4.0               5.0   \n",
       "4                                   Yes               1.0               1.0   \n",
       "\n",
       "  Family History of Mental Illness  Depression  \n",
       "0                               No           1  \n",
       "1                              Yes           0  \n",
       "2                              Yes           0  \n",
       "3                              Yes           1  \n",
       "4                               No           0  "
      ]
     },
     "execution_count": 2,
     "metadata": {},
     "output_type": "execute_result"
    }
   ],
   "source": [
    "df = pd.read_csv(\"/kaggle/input/student-depression-dataset/Student Depression Dataset.csv\")\n",
    "df.head()"
   ]
  },
  {
   "cell_type": "code",
   "execution_count": 3,
   "id": "42e8f31e",
   "metadata": {
    "execution": {
     "iopub.execute_input": "2025-02-10T03:01:12.879481Z",
     "iopub.status.busy": "2025-02-10T03:01:12.879089Z",
     "iopub.status.idle": "2025-02-10T03:01:12.884538Z",
     "shell.execute_reply": "2025-02-10T03:01:12.883589Z"
    },
    "papermill": {
     "duration": 0.011577,
     "end_time": "2025-02-10T03:01:12.886005",
     "exception": false,
     "start_time": "2025-02-10T03:01:12.874428",
     "status": "completed"
    },
    "tags": []
   },
   "outputs": [
    {
     "data": {
      "text/plain": [
       "(27901, 18)"
      ]
     },
     "execution_count": 3,
     "metadata": {},
     "output_type": "execute_result"
    }
   ],
   "source": [
    "df.shape"
   ]
  },
  {
   "cell_type": "code",
   "execution_count": 4,
   "id": "398c4b7a",
   "metadata": {
    "execution": {
     "iopub.execute_input": "2025-02-10T03:01:12.895097Z",
     "iopub.status.busy": "2025-02-10T03:01:12.894708Z",
     "iopub.status.idle": "2025-02-10T03:01:12.918743Z",
     "shell.execute_reply": "2025-02-10T03:01:12.917644Z"
    },
    "papermill": {
     "duration": 0.030744,
     "end_time": "2025-02-10T03:01:12.920645",
     "exception": false,
     "start_time": "2025-02-10T03:01:12.889901",
     "status": "completed"
    },
    "tags": []
   },
   "outputs": [
    {
     "data": {
      "text/plain": [
       "Have you ever had suicidal thoughts ?\n",
       "Yes                                      17656\n",
       "No                                       10245\n",
       "Name: count, dtype: int64"
      ]
     },
     "execution_count": 4,
     "metadata": {},
     "output_type": "execute_result"
    }
   ],
   "source": [
    "thoughts = df.iloc[:, [13]].value_counts()\n",
    "thoughts"
   ]
  },
  {
   "cell_type": "code",
   "execution_count": 5,
   "id": "f8b14205",
   "metadata": {
    "execution": {
     "iopub.execute_input": "2025-02-10T03:01:12.929952Z",
     "iopub.status.busy": "2025-02-10T03:01:12.929612Z",
     "iopub.status.idle": "2025-02-10T03:01:12.955195Z",
     "shell.execute_reply": "2025-02-10T03:01:12.954119Z"
    },
    "papermill": {
     "duration": 0.032073,
     "end_time": "2025-02-10T03:01:12.956883",
     "exception": false,
     "start_time": "2025-02-10T03:01:12.924810",
     "status": "completed"
    },
    "tags": []
   },
   "outputs": [
    {
     "data": {
      "text/plain": [
       "0.6328088598974947"
      ]
     },
     "execution_count": 5,
     "metadata": {},
     "output_type": "execute_result"
    }
   ],
   "source": [
    "thoughts['Yes']/len(df.values)"
   ]
  },
  {
   "cell_type": "code",
   "execution_count": 6,
   "id": "3bb51650",
   "metadata": {
    "execution": {
     "iopub.execute_input": "2025-02-10T03:01:12.966720Z",
     "iopub.status.busy": "2025-02-10T03:01:12.966379Z",
     "iopub.status.idle": "2025-02-10T03:01:12.986821Z",
     "shell.execute_reply": "2025-02-10T03:01:12.985639Z"
    },
    "papermill": {
     "duration": 0.027246,
     "end_time": "2025-02-10T03:01:12.988569",
     "exception": false,
     "start_time": "2025-02-10T03:01:12.961323",
     "status": "completed"
    },
    "tags": []
   },
   "outputs": [
    {
     "data": {
      "text/plain": [
       "id                                       False\n",
       "Gender                                   False\n",
       "Age                                      False\n",
       "City                                     False\n",
       "Profession                               False\n",
       "Academic Pressure                        False\n",
       "Work Pressure                            False\n",
       "CGPA                                     False\n",
       "Study Satisfaction                       False\n",
       "Job Satisfaction                         False\n",
       "Sleep Duration                           False\n",
       "Dietary Habits                           False\n",
       "Degree                                   False\n",
       "Have you ever had suicidal thoughts ?    False\n",
       "Work/Study Hours                         False\n",
       "Financial Stress                          True\n",
       "Family History of Mental Illness         False\n",
       "Depression                               False\n",
       "dtype: bool"
      ]
     },
     "execution_count": 6,
     "metadata": {},
     "output_type": "execute_result"
    }
   ],
   "source": [
    "df.isna().any()"
   ]
  },
  {
   "cell_type": "code",
   "execution_count": 7,
   "id": "3c3ddd40",
   "metadata": {
    "execution": {
     "iopub.execute_input": "2025-02-10T03:01:12.998846Z",
     "iopub.status.busy": "2025-02-10T03:01:12.998523Z",
     "iopub.status.idle": "2025-02-10T03:01:13.021381Z",
     "shell.execute_reply": "2025-02-10T03:01:13.020275Z"
    },
    "papermill": {
     "duration": 0.029987,
     "end_time": "2025-02-10T03:01:13.022986",
     "exception": false,
     "start_time": "2025-02-10T03:01:12.992999",
     "status": "completed"
    },
    "tags": []
   },
   "outputs": [
    {
     "data": {
      "text/plain": [
       "(27898, 18)"
      ]
     },
     "execution_count": 7,
     "metadata": {},
     "output_type": "execute_result"
    }
   ],
   "source": [
    "# drop na rows\n",
    "#df.drop(df[df['Financial Stress'].isna()].index, axis = 0, inplace=True)\n",
    "df.dropna(inplace = True)\n",
    "df.shape"
   ]
  },
  {
   "cell_type": "code",
   "execution_count": 8,
   "id": "8676d3d5",
   "metadata": {
    "execution": {
     "iopub.execute_input": "2025-02-10T03:01:13.032672Z",
     "iopub.status.busy": "2025-02-10T03:01:13.032347Z",
     "iopub.status.idle": "2025-02-10T03:01:13.443444Z",
     "shell.execute_reply": "2025-02-10T03:01:13.442376Z"
    },
    "papermill": {
     "duration": 0.417894,
     "end_time": "2025-02-10T03:01:13.445286",
     "exception": false,
     "start_time": "2025-02-10T03:01:13.027392",
     "status": "completed"
    },
    "tags": []
   },
   "outputs": [
    {
     "data": {
      "text/plain": [
       "<matplotlib.collections.PathCollection at 0x7e5d730535b0>"
      ]
     },
     "execution_count": 8,
     "metadata": {},
     "output_type": "execute_result"
    },
    {
     "data": {
      "image/png": "[encoded data removed]",
      "text/plain": [
       "<Figure size 640x480 with 1 Axes>"
      ]
     },
     "metadata": {},
     "output_type": "display_data"
    }
   ],
   "source": [
    "\n",
    "jitter_x = np.random.normal(0, 0.1, len(df.values))  # Small noise for x-axis\n",
    "jitter_y = np.random.normal(0, 0.1, len(df.values))  # y axis\n",
    "plt.scatter(np.array(df['Age']) + jitter_x, np.array(df['CGPA']) )"
   ]
  },
  {
   "cell_type": "code",
   "execution_count": 9,
   "id": "7b3e41a0",
   "metadata": {
    "execution": {
     "iopub.execute_input": "2025-02-10T03:01:13.456258Z",
     "iopub.status.busy": "2025-02-10T03:01:13.455850Z",
     "iopub.status.idle": "2025-02-10T03:01:13.468316Z",
     "shell.execute_reply": "2025-02-10T03:01:13.467305Z"
    },
    "papermill": {
     "duration": 0.019743,
     "end_time": "2025-02-10T03:01:13.470071",
     "exception": false,
     "start_time": "2025-02-10T03:01:13.450328",
     "status": "completed"
    },
    "tags": []
   },
   "outputs": [
    {
     "data": {
      "text/plain": [
       "-0.02225164612545061"
      ]
     },
     "execution_count": 9,
     "metadata": {},
     "output_type": "execute_result"
    }
   ],
   "source": [
    "np.corrcoef(np.array(df['Academic Pressure']), np.array(df['CGPA']))[0, 1]"
   ]
  },
  {
   "cell_type": "code",
   "execution_count": 10,
   "id": "53a8ee3b",
   "metadata": {
    "execution": {
     "iopub.execute_input": "2025-02-10T03:01:13.481267Z",
     "iopub.status.busy": "2025-02-10T03:01:13.480887Z",
     "iopub.status.idle": "2025-02-10T03:01:13.498676Z",
     "shell.execute_reply": "2025-02-10T03:01:13.497475Z"
    },
    "papermill": {
     "duration": 0.025422,
     "end_time": "2025-02-10T03:01:13.500515",
     "exception": false,
     "start_time": "2025-02-10T03:01:13.475093",
     "status": "completed"
    },
    "tags": []
   },
   "outputs": [
    {
     "data": {
      "text/html": [
       "<div>\n",
       "<style scoped>\n",
       "    .dataframe tbody tr th:only-of-type {\n",
       "        vertical-align: middle;\n",
       "    }\n",
       "\n",
       "    .dataframe tbody tr th {\n",
       "        vertical-align: top;\n",
       "    }\n",
       "\n",
       "    .dataframe thead th {\n",
       "        text-align: right;\n",
       "    }\n",
       "</style>\n",
       "<table border=\"1\" class=\"dataframe\">\n",
       "  <thead>\n",
       "    <tr style=\"text-align: right;\">\n",
       "      <th></th>\n",
       "      <th>Depression</th>\n",
       "    </tr>\n",
       "    <tr>\n",
       "      <th>Degree</th>\n",
       "      <th></th>\n",
       "    </tr>\n",
       "  </thead>\n",
       "  <tbody>\n",
       "    <tr>\n",
       "      <th>B.Arch</th>\n",
       "      <td>871</td>\n",
       "    </tr>\n",
       "    <tr>\n",
       "      <th>B.Com</th>\n",
       "      <td>853</td>\n",
       "    </tr>\n",
       "    <tr>\n",
       "      <th>B.Ed</th>\n",
       "      <td>1021</td>\n",
       "    </tr>\n",
       "    <tr>\n",
       "      <th>B.Pharm</th>\n",
       "      <td>428</td>\n",
       "    </tr>\n",
       "    <tr>\n",
       "      <th>B.Tech</th>\n",
       "      <td>655</td>\n",
       "    </tr>\n",
       "    <tr>\n",
       "      <th>BA</th>\n",
       "      <td>321</td>\n",
       "    </tr>\n",
       "    <tr>\n",
       "      <th>BBA</th>\n",
       "      <td>407</td>\n",
       "    </tr>\n",
       "    <tr>\n",
       "      <th>BCA</th>\n",
       "      <td>818</td>\n",
       "    </tr>\n",
       "    <tr>\n",
       "      <th>BE</th>\n",
       "      <td>334</td>\n",
       "    </tr>\n",
       "    <tr>\n",
       "      <th>BHM</th>\n",
       "      <td>509</td>\n",
       "    </tr>\n",
       "    <tr>\n",
       "      <th>BSc</th>\n",
       "      <td>523</td>\n",
       "    </tr>\n",
       "    <tr>\n",
       "      <th>Class 12</th>\n",
       "      <td>4303</td>\n",
       "    </tr>\n",
       "    <tr>\n",
       "      <th>LLB</th>\n",
       "      <td>356</td>\n",
       "    </tr>\n",
       "    <tr>\n",
       "      <th>LLM</th>\n",
       "      <td>259</td>\n",
       "    </tr>\n",
       "    <tr>\n",
       "      <th>M.Com</th>\n",
       "      <td>390</td>\n",
       "    </tr>\n",
       "    <tr>\n",
       "      <th>M.Ed</th>\n",
       "      <td>415</td>\n",
       "    </tr>\n",
       "    <tr>\n",
       "      <th>M.Pharm</th>\n",
       "      <td>314</td>\n",
       "    </tr>\n",
       "    <tr>\n",
       "      <th>M.Tech</th>\n",
       "      <td>521</td>\n",
       "    </tr>\n",
       "    <tr>\n",
       "      <th>MA</th>\n",
       "      <td>290</td>\n",
       "    </tr>\n",
       "    <tr>\n",
       "      <th>MBA</th>\n",
       "      <td>303</td>\n",
       "    </tr>\n",
       "    <tr>\n",
       "      <th>MBBS</th>\n",
       "      <td>404</td>\n",
       "    </tr>\n",
       "    <tr>\n",
       "      <th>MCA</th>\n",
       "      <td>559</td>\n",
       "    </tr>\n",
       "    <tr>\n",
       "      <th>MD</th>\n",
       "      <td>298</td>\n",
       "    </tr>\n",
       "    <tr>\n",
       "      <th>ME</th>\n",
       "      <td>98</td>\n",
       "    </tr>\n",
       "    <tr>\n",
       "      <th>MHM</th>\n",
       "      <td>99</td>\n",
       "    </tr>\n",
       "    <tr>\n",
       "      <th>MSc</th>\n",
       "      <td>679</td>\n",
       "    </tr>\n",
       "    <tr>\n",
       "      <th>Others</th>\n",
       "      <td>21</td>\n",
       "    </tr>\n",
       "    <tr>\n",
       "      <th>PhD</th>\n",
       "      <td>286</td>\n",
       "    </tr>\n",
       "  </tbody>\n",
       "</table>\n",
       "</div>"
      ],
      "text/plain": [
       "          Depression\n",
       "Degree              \n",
       "B.Arch           871\n",
       "B.Com            853\n",
       "B.Ed            1021\n",
       "B.Pharm          428\n",
       "B.Tech           655\n",
       "BA               321\n",
       "BBA              407\n",
       "BCA              818\n",
       "BE               334\n",
       "BHM              509\n",
       "BSc              523\n",
       "Class 12        4303\n",
       "LLB              356\n",
       "LLM              259\n",
       "M.Com            390\n",
       "M.Ed             415\n",
       "M.Pharm          314\n",
       "M.Tech           521\n",
       "MA               290\n",
       "MBA              303\n",
       "MBBS             404\n",
       "MCA              559\n",
       "MD               298\n",
       "ME                98\n",
       "MHM               99\n",
       "MSc              679\n",
       "Others            21\n",
       "PhD              286"
      ]
     },
     "execution_count": 10,
     "metadata": {},
     "output_type": "execute_result"
    }
   ],
   "source": [
    "group_by_degree = df[['Degree', 'Depression']].groupby(by = 'Degree').sum()\n",
    "group_by_degree"
   ]
  },
  {
   "cell_type": "code",
   "execution_count": 11,
   "id": "9b893a6f",
   "metadata": {
    "execution": {
     "iopub.execute_input": "2025-02-10T03:01:13.512365Z",
     "iopub.status.busy": "2025-02-10T03:01:13.511877Z",
     "iopub.status.idle": "2025-02-10T03:01:13.836201Z",
     "shell.execute_reply": "2025-02-10T03:01:13.834985Z"
    },
    "papermill": {
     "duration": 0.331961,
     "end_time": "2025-02-10T03:01:13.837854",
     "exception": false,
     "start_time": "2025-02-10T03:01:13.505893",
     "status": "completed"
    },
    "tags": []
   },
   "outputs": [
    {
     "data": {
      "text/plain": [
       "<BarContainer object of 28 artists>"
      ]
     },
     "execution_count": 11,
     "metadata": {},
     "output_type": "execute_result"
    },
    {
     "data": {
      "image/png": "[encoded data removed]",
      "text/plain": [
       "<Figure size 640x480 with 1 Axes>"
      ]
     },
     "metadata": {},
     "output_type": "display_data"
    }
   ],
   "source": [
    "len(group_by_degree.values)\n",
    "plt.xticks(rotation=90, ha='right')\n",
    "plt.xlabel(\"Type of Degree\")\n",
    "plt.ylabel(\"Number of Depressed People\")\n",
    "plt.bar(group_by_degree.index, height = group_by_degree.Depression)\n"
   ]
  },
  {
   "cell_type": "code",
   "execution_count": 12,
   "id": "10e88d5a",
   "metadata": {
    "execution": {
     "iopub.execute_input": "2025-02-10T03:01:13.850835Z",
     "iopub.status.busy": "2025-02-10T03:01:13.850500Z",
     "iopub.status.idle": "2025-02-10T03:01:13.879736Z",
     "shell.execute_reply": "2025-02-10T03:01:13.878599Z"
    },
    "papermill": {
     "duration": 0.037847,
     "end_time": "2025-02-10T03:01:13.881587",
     "exception": false,
     "start_time": "2025-02-10T03:01:13.843740",
     "status": "completed"
    },
    "tags": []
   },
   "outputs": [
    {
     "data": {
      "text/plain": [
       "Degree\n",
       "B.Arch      0.031221\n",
       "B.Com       0.030576\n",
       "B.Ed        0.036598\n",
       "B.Pharm     0.015342\n",
       "B.Tech      0.023478\n",
       "BA          0.011506\n",
       "BBA         0.014589\n",
       "BCA         0.029321\n",
       "BE          0.011972\n",
       "BHM         0.018245\n",
       "BSc         0.018747\n",
       "Class 12    0.154240\n",
       "LLB         0.012761\n",
       "LLM         0.009284\n",
       "M.Com       0.013979\n",
       "M.Ed        0.014876\n",
       "M.Pharm     0.011255\n",
       "M.Tech      0.018675\n",
       "MA          0.010395\n",
       "MBA         0.010861\n",
       "MBBS        0.014481\n",
       "MCA         0.020037\n",
       "MD          0.010682\n",
       "ME          0.003513\n",
       "MHM         0.003549\n",
       "MSc         0.024339\n",
       "Others      0.000753\n",
       "PhD         0.010252\n",
       "Name: Depression, dtype: float64"
      ]
     },
     "execution_count": 12,
     "metadata": {},
     "output_type": "execute_result"
    }
   ],
   "source": [
    "group_by_degree['Depression']/len(df.values)"
   ]
  },
  {
   "cell_type": "code",
   "execution_count": 13,
   "id": "1b37a72c",
   "metadata": {
    "execution": {
     "iopub.execute_input": "2025-02-10T03:01:13.894554Z",
     "iopub.status.busy": "2025-02-10T03:01:13.894215Z",
     "iopub.status.idle": "2025-02-10T03:01:13.917012Z",
     "shell.execute_reply": "2025-02-10T03:01:13.915984Z"
    },
    "papermill": {
     "duration": 0.031412,
     "end_time": "2025-02-10T03:01:13.918954",
     "exception": false,
     "start_time": "2025-02-10T03:01:13.887542",
     "status": "completed"
    },
    "tags": []
   },
   "outputs": [
    {
     "data": {
      "text/html": [
       "<div>\n",
       "<style scoped>\n",
       "    .dataframe tbody tr th:only-of-type {\n",
       "        vertical-align: middle;\n",
       "    }\n",
       "\n",
       "    .dataframe tbody tr th {\n",
       "        vertical-align: top;\n",
       "    }\n",
       "\n",
       "    .dataframe thead th {\n",
       "        text-align: right;\n",
       "    }\n",
       "</style>\n",
       "<table border=\"1\" class=\"dataframe\">\n",
       "  <thead>\n",
       "    <tr style=\"text-align: right;\">\n",
       "      <th></th>\n",
       "      <th>Depression</th>\n",
       "      <th>total_for_degree</th>\n",
       "    </tr>\n",
       "    <tr>\n",
       "      <th>Degree</th>\n",
       "      <th></th>\n",
       "      <th></th>\n",
       "    </tr>\n",
       "  </thead>\n",
       "  <tbody>\n",
       "    <tr>\n",
       "      <th>B.Arch</th>\n",
       "      <td>871</td>\n",
       "      <td>0.589310</td>\n",
       "    </tr>\n",
       "    <tr>\n",
       "      <th>B.Com</th>\n",
       "      <td>853</td>\n",
       "      <td>0.566401</td>\n",
       "    </tr>\n",
       "    <tr>\n",
       "      <th>B.Ed</th>\n",
       "      <td>1021</td>\n",
       "      <td>0.547160</td>\n",
       "    </tr>\n",
       "    <tr>\n",
       "      <th>B.Pharm</th>\n",
       "      <td>428</td>\n",
       "      <td>0.528395</td>\n",
       "    </tr>\n",
       "    <tr>\n",
       "      <th>B.Tech</th>\n",
       "      <td>655</td>\n",
       "      <td>0.568576</td>\n",
       "    </tr>\n",
       "    <tr>\n",
       "      <th>BA</th>\n",
       "      <td>321</td>\n",
       "      <td>0.535000</td>\n",
       "    </tr>\n",
       "    <tr>\n",
       "      <th>BBA</th>\n",
       "      <td>407</td>\n",
       "      <td>0.584770</td>\n",
       "    </tr>\n",
       "    <tr>\n",
       "      <th>BCA</th>\n",
       "      <td>818</td>\n",
       "      <td>0.571229</td>\n",
       "    </tr>\n",
       "    <tr>\n",
       "      <th>BE</th>\n",
       "      <td>334</td>\n",
       "      <td>0.544861</td>\n",
       "    </tr>\n",
       "    <tr>\n",
       "      <th>BHM</th>\n",
       "      <td>509</td>\n",
       "      <td>0.550270</td>\n",
       "    </tr>\n",
       "    <tr>\n",
       "      <th>BSc</th>\n",
       "      <td>523</td>\n",
       "      <td>0.588964</td>\n",
       "    </tr>\n",
       "    <tr>\n",
       "      <th>Class 12</th>\n",
       "      <td>4303</td>\n",
       "      <td>0.707730</td>\n",
       "    </tr>\n",
       "    <tr>\n",
       "      <th>LLB</th>\n",
       "      <td>356</td>\n",
       "      <td>0.530551</td>\n",
       "    </tr>\n",
       "    <tr>\n",
       "      <th>LLM</th>\n",
       "      <td>259</td>\n",
       "      <td>0.537344</td>\n",
       "    </tr>\n",
       "    <tr>\n",
       "      <th>M.Com</th>\n",
       "      <td>390</td>\n",
       "      <td>0.531335</td>\n",
       "    </tr>\n",
       "    <tr>\n",
       "      <th>M.Ed</th>\n",
       "      <td>415</td>\n",
       "      <td>0.505481</td>\n",
       "    </tr>\n",
       "    <tr>\n",
       "      <th>M.Pharm</th>\n",
       "      <td>314</td>\n",
       "      <td>0.539519</td>\n",
       "    </tr>\n",
       "    <tr>\n",
       "      <th>M.Tech</th>\n",
       "      <td>521</td>\n",
       "      <td>0.509785</td>\n",
       "    </tr>\n",
       "    <tr>\n",
       "      <th>MA</th>\n",
       "      <td>290</td>\n",
       "      <td>0.533088</td>\n",
       "    </tr>\n",
       "    <tr>\n",
       "      <th>MBA</th>\n",
       "      <td>303</td>\n",
       "      <td>0.539146</td>\n",
       "    </tr>\n",
       "    <tr>\n",
       "      <th>MBBS</th>\n",
       "      <td>404</td>\n",
       "      <td>0.581295</td>\n",
       "    </tr>\n",
       "    <tr>\n",
       "      <th>MCA</th>\n",
       "      <td>559</td>\n",
       "      <td>0.535441</td>\n",
       "    </tr>\n",
       "    <tr>\n",
       "      <th>MD</th>\n",
       "      <td>298</td>\n",
       "      <td>0.520979</td>\n",
       "    </tr>\n",
       "    <tr>\n",
       "      <th>ME</th>\n",
       "      <td>98</td>\n",
       "      <td>0.529730</td>\n",
       "    </tr>\n",
       "    <tr>\n",
       "      <th>MHM</th>\n",
       "      <td>99</td>\n",
       "      <td>0.518325</td>\n",
       "    </tr>\n",
       "    <tr>\n",
       "      <th>MSc</th>\n",
       "      <td>679</td>\n",
       "      <td>0.570588</td>\n",
       "    </tr>\n",
       "    <tr>\n",
       "      <th>Others</th>\n",
       "      <td>21</td>\n",
       "      <td>0.600000</td>\n",
       "    </tr>\n",
       "    <tr>\n",
       "      <th>PhD</th>\n",
       "      <td>286</td>\n",
       "      <td>0.547893</td>\n",
       "    </tr>\n",
       "  </tbody>\n",
       "</table>\n",
       "</div>"
      ],
      "text/plain": [
       "          Depression  total_for_degree\n",
       "Degree                                \n",
       "B.Arch           871          0.589310\n",
       "B.Com            853          0.566401\n",
       "B.Ed            1021          0.547160\n",
       "B.Pharm          428          0.528395\n",
       "B.Tech           655          0.568576\n",
       "BA               321          0.535000\n",
       "BBA              407          0.584770\n",
       "BCA              818          0.571229\n",
       "BE               334          0.544861\n",
       "BHM              509          0.550270\n",
       "BSc              523          0.588964\n",
       "Class 12        4303          0.707730\n",
       "LLB              356          0.530551\n",
       "LLM              259          0.537344\n",
       "M.Com            390          0.531335\n",
       "M.Ed             415          0.505481\n",
       "M.Pharm          314          0.539519\n",
       "M.Tech           521          0.509785\n",
       "MA               290          0.533088\n",
       "MBA              303          0.539146\n",
       "MBBS             404          0.581295\n",
       "MCA              559          0.535441\n",
       "MD               298          0.520979\n",
       "ME                98          0.529730\n",
       "MHM               99          0.518325\n",
       "MSc              679          0.570588\n",
       "Others            21          0.600000\n",
       "PhD              286          0.547893"
      ]
     },
     "execution_count": 13,
     "metadata": {},
     "output_type": "execute_result"
    }
   ],
   "source": [
    "def prop_depressed(series): \n",
    "    return sum(series)/len(series)\n",
    "\n",
    "group_by_degree['total_for_degree'] = df[['Degree', 'Depression']].groupby('Degree').agg(prop_depressed)\n",
    "group_by_degree"
   ]
  },
  {
   "cell_type": "code",
   "execution_count": null,
   "id": "8c1fb842",
   "metadata": {
    "papermill": {
     "duration": 0.005781,
     "end_time": "2025-02-10T03:01:13.931187",
     "exception": false,
     "start_time": "2025-02-10T03:01:13.925406",
     "status": "completed"
    },
    "tags": []
   },
   "outputs": [],
   "source": []
  }
 ],
 "metadata": {
  "kaggle": {
   "accelerator": "none",
   "dataSources": [
    {
     "datasetId": 6144877,
     "sourceId": 9985284,
     "sourceType": "datasetVersion"
    }
   ],
   "dockerImageVersionId": 30886,
   "isGpuEnabled": false,
   "isInternetEnabled": true,
   "language": "python",
   "sourceType": "notebook"
  },
  "kernelspec": {
   "display_name": "Python 3",
   "language": "python",
   "name": "python3"
  },
  "language_info": {
   "codemirror_mode": {
    "name": "ipython",
    "version": 3
   },
   "file_extension": ".py",
   "mimetype": "text/x-python",
   "name": "python",
   "nbconvert_exporter": "python",
   "pygments_lexer": "ipython3",
   "version": "3.10.12"
  },
  "papermill": {
   "default_parameters": {},
   "duration": 5.649372,
   "end_time": "2025-02-10T03:01:14.558210",
   "environment_variables": {},
   "exception": null,
   "input_path": "__notebook__.ipynb",
   "output_path": "__notebook__.ipynb",
   "parameters": {},
   "start_time": "2025-02-10T03:01:08.908838",
   "version": "2.6.0"
  }
 },
 "nbformat": 4,
 "nbformat_minor": 5
}
